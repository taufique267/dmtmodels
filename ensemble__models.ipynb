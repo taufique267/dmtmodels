{
  "nbformat": 4,
  "nbformat_minor": 0,
  "metadata": {
    "colab": {
      "provenance": []
    },
    "kernelspec": {
      "name": "python3",
      "display_name": "Python 3"
    },
    "language_info": {
      "name": "python"
    }
  },
  "cells": [
    {
      "cell_type": "markdown",
      "source": [
        "**Combining passive aggressive classifier and weighted knn**"
      ],
      "metadata": {
        "id": "VtZ0SNhveAw9"
      }
    },
    {
      "cell_type": "code",
      "source": [
        "import pandas as pd\n",
        "from sklearn.feature_extraction.text import TfidfVectorizer\n",
        "from sklearn.linear_model import PassiveAggressiveClassifier\n",
        "from sklearn.neighbors import KNeighborsClassifier\n",
        "from sklearn.ensemble import VotingClassifier\n",
        "from sklearn.metrics import accuracy_score, classification_report\n",
        "\n",
        "# Load and preprocess training data for Passive Aggressive Classifier\n",
        "df_train_pac = pd.read_csv('/content/drive/MyDrive/twitter/twitter_training.csv')\n",
        "df_train_pac.rename(columns={'2401': 'id', 'Positive': 'Sentiment', 'im getting on borderlands and i will murder you all ,': 'text'}, inplace=True)\n",
        "df_train_pac.dropna(inplace=True)\n",
        "X_train_pac = df_train_pac['text']\n",
        "y_train_pac = df_train_pac['Sentiment']\n",
        "tfidf_vectorizer_pac = TfidfVectorizer(stop_words='english', max_df=0.7)\n",
        "tfidf_train_pac = tfidf_vectorizer_pac.fit_transform(X_train_pac)\n",
        "pac_model = PassiveAggressiveClassifier(max_iter=50)\n",
        "pac_model.fit(tfidf_train_pac, y_train_pac)\n",
        "\n",
        "# Load and preprocess test data for Passive Aggressive Classifier\n",
        "df_test_pac = pd.read_csv('/content/drive/MyDrive/twitter/twitter_validation.csv')\n",
        "df_test_pac.rename(columns={'3364': 'id', 'Irrelevant': 'Sentiment', 'I mentioned on Facebook that I was struggling for motivation to go for a run the other day, which has been translated by Tom’s great auntie as ‘Hayley can’t get out of bed’ and told to his grandma, who now thinks I’m a lazy, terrible person 🤣': 'text'}, inplace=True)\n",
        "df_test_pac.dropna(inplace=True)\n",
        "X_test_pac = df_test_pac['text']\n",
        "y_test_pac = df_test_pac['Sentiment']\n",
        "tfidf_test_pac = tfidf_vectorizer_pac.transform(X_test_pac)\n",
        "\n",
        "# Load and preprocess training data for Weighted KNN\n",
        "df_train_knn = pd.read_csv('/content/drive/MyDrive/twitter/twitter_training.csv')\n",
        "df_train_knn.rename(columns={'2401': 'id', 'Positive': 'Sentiment', 'im getting on borderlands and i will murder you all ,': 'text'}, inplace=True)\n",
        "df_train_knn.dropna(inplace=True)\n",
        "X_train_knn = df_train_knn['text']\n",
        "y_train_knn = df_train_knn['Sentiment']\n",
        "tfidf_vectorizer_knn = TfidfVectorizer(stop_words='english', max_df=0.7)\n",
        "tfidf_train_knn = tfidf_vectorizer_knn.fit_transform(X_train_knn)\n",
        "knn_model = KNeighborsClassifier(n_neighbors=1, weights='distance')\n",
        "knn_model.fit(tfidf_train_knn, y_train_knn)\n",
        "\n",
        "# Load and preprocess test data for Weighted KNN\n",
        "df_test_knn = pd.read_csv('/content/drive/MyDrive/twitter/twitter_validation.csv')\n",
        "df_test_knn.rename(columns={'3364': 'id', 'Irrelevant': 'Sentiment', 'I mentioned on Facebook that I was struggling for motivation to go for a run the other day, which has been translated by Tom’s great auntie as ‘Hayley can’t get out of bed’ and told to his grandma, who now thinks I’m a lazy, terrible person 🤣': 'text'}, inplace=True)\n",
        "df_test_knn.dropna(inplace=True)\n",
        "X_test_knn = df_test_knn['text']\n",
        "y_test_knn = df_test_knn['Sentiment']\n",
        "tfidf_test_knn = tfidf_vectorizer_knn.transform(X_test_knn)\n",
        "\n",
        "# Initialize the Voting Classifier with the two models\n",
        "voting_model = VotingClassifier([('pac', pac_model), ('knn', knn_model)], voting='hard')\n",
        "\n",
        "# Fit the Voting Classifier\n",
        "voting_model.fit(tfidf_test_pac, y_test_pac)\n",
        "\n",
        "# Predict with the Voting Classifier\n",
        "y_pred_ensemble = voting_model.predict(tfidf_test_pac)\n",
        "\n",
        "# Evaluate ensemble model\n",
        "accuracy_ensemble = accuracy_score(y_test_pac, y_pred_ensemble)\n",
        "print(f'Ensemble Accuracy: {round(accuracy_ensemble * 100, 2)}%')\n",
        "print('Ensemble Classification Report:')\n",
        "print(classification_report(y_test_pac, y_pred_ensemble))\n"
      ],
      "metadata": {
        "colab": {
          "base_uri": "https://localhost:8080/"
        },
        "id": "OfvUmPnmi1a7",
        "outputId": "9c88780f-bd21-465a-e53c-bed65178d57c"
      },
      "execution_count": 1,
      "outputs": [
        {
          "output_type": "stream",
          "name": "stdout",
          "text": [
            "Ensemble Accuracy: 99.9%\n",
            "Ensemble Classification Report:\n",
            "              precision    recall  f1-score   support\n",
            "\n",
            "  Irrelevant       1.00      0.99      1.00       171\n",
            "    Negative       1.00      1.00      1.00       266\n",
            "     Neutral       1.00      1.00      1.00       285\n",
            "    Positive       1.00      1.00      1.00       277\n",
            "\n",
            "    accuracy                           1.00       999\n",
            "   macro avg       1.00      1.00      1.00       999\n",
            "weighted avg       1.00      1.00      1.00       999\n",
            "\n"
          ]
        }
      ]
    },
    {
      "cell_type": "code",
      "source": [],
      "metadata": {
        "id": "KChYLQF6i1Ux"
      },
      "execution_count": null,
      "outputs": []
    },
    {
      "cell_type": "markdown",
      "source": [
        "**combining pac and xg boost**"
      ],
      "metadata": {
        "id": "aPUUT-cGpqRc"
      }
    },
    {
      "cell_type": "code",
      "source": [
        "pip install xgboost"
      ],
      "metadata": {
        "colab": {
          "base_uri": "https://localhost:8080/"
        },
        "id": "eCBNLtpdp-a2",
        "outputId": "3b0156c9-b03a-4578-c5d5-7833859eb29c"
      },
      "execution_count": null,
      "outputs": [
        {
          "output_type": "stream",
          "name": "stdout",
          "text": [
            "Requirement already satisfied: xgboost in /usr/local/lib/python3.10/dist-packages (2.0.3)\n",
            "Requirement already satisfied: numpy in /usr/local/lib/python3.10/dist-packages (from xgboost) (1.25.2)\n",
            "Requirement already satisfied: scipy in /usr/local/lib/python3.10/dist-packages (from xgboost) (1.11.4)\n"
          ]
        }
      ]
    },
    {
      "cell_type": "markdown",
      "source": [
        "**passive and random forest using voting ensemble model**"
      ],
      "metadata": {
        "id": "1FOL7QEHRabK"
      }
    },
    {
      "cell_type": "code",
      "source": [
        "import pandas as pd\n",
        "import numpy as np\n",
        "from sklearn.feature_extraction.text import TfidfVectorizer\n",
        "from sklearn.linear_model import PassiveAggressiveClassifier\n",
        "from sklearn.ensemble import RandomForestClassifier, VotingClassifier\n",
        "from sklearn.metrics import accuracy_score, classification_report\n",
        "from sklearn.preprocessing import LabelEncoder\n",
        "\n",
        "# Load and preprocess training data for Passive Aggressive Classifier\n",
        "df_train_pac = pd.read_csv('/content/drive/MyDrive/twitter/twitter_training.csv')\n",
        "df_train_pac.rename(columns={'2401': 'id', 'Positive': 'Label', 'im getting on borderlands and i will murder you all ,': 'text'}, inplace=True)\n",
        "df_train_pac.dropna(inplace=True)\n",
        "X_train_pac = df_train_pac['text']\n",
        "y_train_pac = df_train_pac['Label']\n",
        "tfidf_vectorizer_pac = TfidfVectorizer(stop_words='english', max_df=0.7)\n",
        "tfidf_train_pac = tfidf_vectorizer_pac.fit_transform(X_train_pac)\n",
        "pac_model = PassiveAggressiveClassifier(max_iter=50)\n",
        "pac_model.fit(tfidf_train_pac, y_train_pac)\n",
        "\n",
        "# Load and preprocess test data for Passive Aggressive Classifier\n",
        "df_test_pac = pd.read_csv('/content/drive/MyDrive/twitter/twitter_validation.csv')\n",
        "df_test_pac.rename(columns={'3364': 'id', 'Irrelevant': 'Label', 'I mentioned on Facebook that I was struggling for motivation to go for a run the other day, which has been translated by Tom’s great auntie as ‘Hayley can’t get out of bed’ and told to his grandma, who now thinks I’m a lazy, terrible person 🤣': 'text'}, inplace=True)\n",
        "df_test_pac.dropna(inplace=True)\n",
        "X_test_pac = df_test_pac['text']\n",
        "y_test_pac = df_test_pac['Label']\n",
        "tfidf_test_pac = tfidf_vectorizer_pac.transform(X_test_pac)\n",
        "y_pred_pac = pac_model.predict(tfidf_test_pac)\n",
        "\n",
        "# Load and preprocess training data for Random Forest Classifier\n",
        "df_train_rfc = pd.read_csv('/content/drive/MyDrive/twitter/twitter_training.csv')\n",
        "df_train_rfc.rename(columns={'2401': 'id', 'Positive': 'Label', 'im getting on borderlands and i will murder you all ,': 'text'}, inplace=True)\n",
        "df_train_rfc.dropna(inplace=True)\n",
        "X_train_rfc = df_train_rfc['text']\n",
        "y_train_rfc = df_train_rfc['Label']\n",
        "tfidf_vectorizer_rfc = TfidfVectorizer(stop_words='english', max_df=0.7)\n",
        "tfidf_train_rfc = tfidf_vectorizer_rfc.fit_transform(X_train_rfc)\n",
        "rfc_model = RandomForestClassifier()\n",
        "rfc_model.fit(tfidf_train_rfc, y_train_rfc)\n",
        "\n",
        "# Load and preprocess test data for Random Forest Classifier\n",
        "df_test_rfc = pd.read_csv('/content/drive/MyDrive/twitter/twitter_validation.csv')\n",
        "df_test_rfc.rename(columns={'3364': 'id', 'Irrelevant': 'Label', 'I mentioned on Facebook that I was struggling for motivation to go for a run the other day, which has been translated by Tom’s great auntie as ‘Hayley can’t get out of bed’ and told to his grandma, who now thinks I’m a lazy, terrible person 🤣': 'text'}, inplace=True)\n",
        "df_test_rfc.dropna(inplace=True)\n",
        "X_test_rfc = df_test_rfc['text']\n",
        "y_test_rfc = df_test_rfc['Label']\n",
        "tfidf_test_rfc = tfidf_vectorizer_rfc.transform(X_test_rfc)\n",
        "y_pred_rfc = rfc_model.predict(tfidf_test_rfc)\n",
        "\n",
        "# Create a voting ensemble model\n",
        "voting_model = VotingClassifier([('pac', pac_model), ('rfc', rfc_model)], voting='hard')\n",
        "\n",
        "# Fit the voting ensemble model\n",
        "voting_model.fit(tfidf_test_pac, y_test_pac)\n",
        "\n",
        "# Predict with the voting ensemble model\n",
        "y_pred_ensemble = voting_model.predict(tfidf_test_pac)\n",
        "\n",
        "# Evaluate ensemble model\n",
        "accuracy_ensemble = accuracy_score(y_test_pac, y_pred_ensemble)\n",
        "print(f'Ensemble Accuracy: {round(accuracy_ensemble * 100, 2)}%')\n",
        "print('Ensemble Classification Report:')\n",
        "print(classification_report(y_test_pac, y_pred_ensemble))\n"
      ],
      "metadata": {
        "id": "mCUSwH1Rx8G5",
        "colab": {
          "base_uri": "https://localhost:8080/"
        },
        "outputId": "c7c2370a-9a94-4b74-aefb-9677a3e40b1f"
      },
      "execution_count": 6,
      "outputs": [
        {
          "output_type": "stream",
          "name": "stdout",
          "text": [
            "Ensemble Accuracy: 99.9%\n",
            "Ensemble Classification Report:\n",
            "              precision    recall  f1-score   support\n",
            "\n",
            "  Irrelevant       0.99      1.00      1.00       171\n",
            "    Negative       1.00      1.00      1.00       266\n",
            "     Neutral       1.00      1.00      1.00       285\n",
            "    Positive       1.00      1.00      1.00       277\n",
            "\n",
            "    accuracy                           1.00       999\n",
            "   macro avg       1.00      1.00      1.00       999\n",
            "weighted avg       1.00      1.00      1.00       999\n",
            "\n"
          ]
        }
      ]
    },
    {
      "cell_type": "markdown",
      "source": [
        "**using pac and random forest with stacking ensemble model**\n"
      ],
      "metadata": {
        "id": "dQx3tYUSRlPi"
      }
    },
    {
      "cell_type": "code",
      "source": [
        "import pandas as pd\n",
        "import numpy as np\n",
        "from sklearn.feature_extraction.text import TfidfVectorizer\n",
        "from sklearn.linear_model import PassiveAggressiveClassifier\n",
        "from sklearn.ensemble import RandomForestClassifier\n",
        "from sklearn.model_selection import train_test_split\n",
        "from sklearn.metrics import accuracy_score, classification_report\n",
        "from sklearn.preprocessing import LabelEncoder\n",
        "from sklearn.ensemble import StackingClassifier\n",
        "from sklearn.pipeline import make_pipeline\n",
        "\n",
        "# Load and preprocess training data\n",
        "df_train = pd.read_csv('/content/drive/MyDrive/twitter/twitter_training.csv')\n",
        "df_train.rename(columns={'2401': 'id', 'Positive': 'Label', 'im getting on borderlands and i will murder you all ,': 'text'}, inplace=True)\n",
        "df_train.dropna(inplace=True)\n",
        "\n",
        "X_train = df_train['text']\n",
        "y_train = df_train['Label']\n",
        "\n",
        "# Load and preprocess test data\n",
        "df_test = pd.read_csv('/content/drive/MyDrive/twitter/twitter_validation.csv')\n",
        "df_test.rename(columns={'3364': 'id', 'Irrelevant': 'Label', 'I mentioned on Facebook that I was struggling for motivation to go for a run the other day, which has been translated by Tom’s great auntie as ‘Hayley can’t get out of bed’ and told to his grandma, who now thinks I’m a lazy, terrible person 🤣': 'text'}, inplace=True)\n",
        "df_test.dropna(inplace=True)\n",
        "\n",
        "X_test = df_test['text']\n",
        "y_test = df_test['Label']\n",
        "\n",
        "# Define base models\n",
        "pac_model = make_pipeline(TfidfVectorizer(stop_words='english', max_df=0.7), PassiveAggressiveClassifier(max_iter=50))\n",
        "rfc_model = make_pipeline(TfidfVectorizer(stop_words='english', max_df=0.7), RandomForestClassifier())\n",
        "\n",
        "# Define meta-model\n",
        "meta_model = RandomForestClassifier()\n",
        "\n",
        "# Define stacking ensemble model\n",
        "stacking_model = StackingClassifier([('pac', pac_model), ('rfc', rfc_model)], final_estimator=meta_model)\n",
        "\n",
        "# Fit the stacking ensemble model\n",
        "stacking_model.fit(X_train, y_train)\n",
        "\n",
        "# Evaluate ensemble model\n",
        "y_pred_stacking = stacking_model.predict(X_test)\n",
        "accuracy_stacking = accuracy_score(y_test, y_pred_stacking)\n",
        "print(f'Stacking Ensemble Accuracy: {round(accuracy_stacking * 100, 2)}%')\n",
        "print('Stacking Ensemble Classification Report:')\n",
        "print(classification_report(y_test, y_pred_stacking))\n"
      ],
      "metadata": {
        "colab": {
          "base_uri": "https://localhost:8080/"
        },
        "id": "TInArRsJPdIy",
        "outputId": "51e1718d-fa75-4e90-b419-1dd626598dc8"
      },
      "execution_count": null,
      "outputs": [
        {
          "output_type": "stream",
          "name": "stdout",
          "text": [
            "Stacking Ensemble Accuracy: 81.28%\n",
            "Stacking Ensemble Classification Report:\n",
            "              precision    recall  f1-score   support\n",
            "\n",
            "  Irrelevant       0.88      0.64      0.74       171\n",
            "    Negative       0.74      0.78      0.76       266\n",
            "     Neutral       0.81      0.87      0.84       285\n",
            "    Positive       0.87      0.89      0.88       277\n",
            "\n",
            "    accuracy                           0.81       999\n",
            "   macro avg       0.82      0.80      0.80       999\n",
            "weighted avg       0.82      0.81      0.81       999\n",
            "\n"
          ]
        }
      ]
    },
    {
      "cell_type": "markdown",
      "source": [
        "**voting ensemble model of weighted knn and random forest**"
      ],
      "metadata": {
        "id": "goBu7cZ2Sb77"
      }
    },
    {
      "cell_type": "code",
      "source": [
        "import pandas as pd\n",
        "import numpy as np\n",
        "import spacy\n",
        "from sklearn.model_selection import train_test_split\n",
        "from sklearn.feature_extraction.text import TfidfVectorizer\n",
        "from sklearn.preprocessing import LabelEncoder\n",
        "from sklearn.pipeline import Pipeline\n",
        "from sklearn.ensemble import RandomForestClassifier\n",
        "from sklearn.neighbors import KNeighborsClassifier\n",
        "from sklearn.ensemble import VotingClassifier\n",
        "from sklearn.metrics import accuracy_score, classification_report\n",
        "\n",
        "# Load and preprocess training data\n",
        "df_train = pd.read_csv('/content/drive/MyDrive/twitter/twitter_training.csv')\n",
        "df_train.rename(columns={'2401': 'id',\n",
        "                         'Positive': 'Sentiment',\n",
        "                         'im getting on borderlands and i will murder you all ,': 'text'}, inplace=True)\n",
        "df_train.dropna(inplace=True)\n",
        "\n",
        "# Load and preprocess test data\n",
        "df_test = pd.read_csv('/content/drive/MyDrive/twitter/twitter_validation.csv')\n",
        "df_test.rename(columns={'3364': 'id',\n",
        "                        'Irrelevant': 'Sentiment',\n",
        "                        'I mentioned on Facebook that I was struggling for motivation to go for a run the other day, which has been translated by Tom’s great auntie as ‘Hayley can’t get out of bed’ and told to his grandma, who now thinks I’m a lazy, terrible person 🤣': 'text'}, inplace=True)\n",
        "df_test.dropna(inplace=True)\n",
        "\n",
        "# Splitting data\n",
        "X_train = df_train['text']\n",
        "y_train = df_train['Sentiment']\n",
        "X_test = df_test['text']\n",
        "y_test = df_test['Sentiment']\n",
        "\n",
        "# Vectorize text data\n",
        "tfidf_vectorizer = TfidfVectorizer(stop_words='english', max_df=0.7)\n",
        "tfidf_train = tfidf_vectorizer.fit_transform(X_train)\n",
        "tfidf_test = tfidf_vectorizer.transform(X_test)\n",
        "\n",
        "# Initialize classifiers\n",
        "knn_model = KNeighborsClassifier(n_neighbors=1, weights='distance')\n",
        "rfc_model = RandomForestClassifier()\n",
        "\n",
        "# Fit classifiers\n",
        "knn_model.fit(tfidf_train, y_train)\n",
        "rfc_model.fit(tfidf_train, y_train)\n",
        "\n",
        "# Predict using the classifiers\n",
        "y_pred_knn = knn_model.predict(tfidf_test)\n",
        "y_pred_rfc = rfc_model.predict(tfidf_test)\n",
        "\n",
        "# Create a voting ensemble classifier\n",
        "voting_clf = VotingClassifier(estimators=[('knn', knn_model), ('rfc', rfc_model)], voting='hard')\n",
        "\n",
        "# Fit the voting ensemble classifier\n",
        "voting_clf.fit(tfidf_train, y_train)\n",
        "\n",
        "# Predict using the voting ensemble classifier\n",
        "y_pred_voting = voting_clf.predict(tfidf_test)\n",
        "\n",
        "# Calculate accuracy for each classifier and the ensemble\n",
        "accuracy_knn = accuracy_score(y_test, y_pred_knn)\n",
        "accuracy_rfc = accuracy_score(y_test, y_pred_rfc)\n",
        "accuracy_voting = accuracy_score(y_test, y_pred_voting)\n",
        "\n",
        "# Display results\n",
        "print(\"Accuracy for KNN:\", round(accuracy_knn * 100, 2), \"%\")\n",
        "print(\"Accuracy for RFC:\", round(accuracy_rfc * 100, 2), \"%\")\n",
        "print(\"Accuracy for Voting Ensemble:\", round(accuracy_voting * 100, 2), \"%\")\n",
        "\n",
        "# Display classification report for the voting ensemble\n",
        "print('Classification Report for Voting Ensemble:')\n",
        "print(classification_report(y_test, y_pred_voting))\n"
      ],
      "metadata": {
        "colab": {
          "base_uri": "https://localhost:8080/"
        },
        "id": "2e5p0-CXRskr",
        "outputId": "73157414-9034-4082-e258-f5022d521e64"
      },
      "execution_count": null,
      "outputs": [
        {
          "output_type": "stream",
          "name": "stdout",
          "text": [
            "Accuracy for KNN: 96.8 %\n",
            "Accuracy for RFC: 96.0 %\n",
            "Accuracy for Voting Ensemble: 97.2 %\n",
            "Classification Report for Voting Ensemble:\n",
            "              precision    recall  f1-score   support\n",
            "\n",
            "  Irrelevant       0.97      0.99      0.98       171\n",
            "    Negative       0.95      0.98      0.97       266\n",
            "     Neutral       0.99      0.96      0.98       285\n",
            "    Positive       0.99      0.95      0.97       277\n",
            "\n",
            "    accuracy                           0.97       999\n",
            "   macro avg       0.97      0.97      0.97       999\n",
            "weighted avg       0.97      0.97      0.97       999\n",
            "\n"
          ]
        }
      ]
    },
    {
      "cell_type": "markdown",
      "source": [
        "**voting ensemble model of knn randomforest and pac**"
      ],
      "metadata": {
        "id": "jN-CmS97sfa5"
      }
    },
    {
      "cell_type": "code",
      "source": [
        "import pandas as pd\n",
        "from sklearn.feature_extraction.text import TfidfVectorizer\n",
        "from sklearn.neighbors import KNeighborsClassifier\n",
        "from sklearn.linear_model import PassiveAggressiveClassifier\n",
        "from sklearn.ensemble import RandomForestClassifier, VotingClassifier\n",
        "from sklearn.metrics import accuracy_score, classification_report\n",
        "from sklearn.preprocessing import LabelEncoder\n",
        "import spacy\n",
        "\n",
        "# Load and preprocess training data for PAC\n",
        "df_train_pac = pd.read_csv('/content/drive/MyDrive/twitter/twitter_training.csv')\n",
        "df_train_pac.rename(columns={'2401': 'id', 'Positive': 'Label', 'im getting on borderlands and i will murder you all ,': 'text'}, inplace=True)\n",
        "df_train_pac.dropna(inplace=True)\n",
        "X_train_pac = df_train_pac['text']\n",
        "y_train_pac = df_train_pac['Label']\n",
        "tfidf_vectorizer_pac = TfidfVectorizer(stop_words='english', max_df=0.7)\n",
        "tfidf_train_pac = tfidf_vectorizer_pac.fit_transform(X_train_pac)\n",
        "pac_model = PassiveAggressiveClassifier(max_iter=50)\n",
        "pac_model.fit(tfidf_train_pac, y_train_pac)\n",
        "\n",
        "# Load and preprocess test data for PAC\n",
        "df_test_pac = pd.read_csv('/content/drive/MyDrive/twitter/twitter_validation.csv')\n",
        "df_test_pac.rename(columns={'3364': 'id', 'Irrelevant': 'Label', 'I mentioned on Facebook that I was struggling for motivation to go for a run the other day, which has been translated by Tom’s great auntie as ‘Hayley can’t get out of bed’ and told to his grandma, who now thinks I’m a lazy, terrible person 🤣': 'text'}, inplace=True)\n",
        "df_test_pac.dropna(inplace=True)\n",
        "X_test_pac = df_test_pac['text']\n",
        "y_test_pac = df_test_pac['Label']\n",
        "tfidf_test_pac = tfidf_vectorizer_pac.transform(X_test_pac)\n",
        "\n",
        "# Load and preprocess training data for Weighted KNN\n",
        "df_train_knn = pd.read_csv('/content/drive/MyDrive/twitter/twitter_training.csv')\n",
        "df_train_knn.rename(columns={'2401': 'id', 'Positive': 'Sentiment', 'im getting on borderlands and i will murder you all ,': 'text'}, inplace=True)\n",
        "df_train_knn.dropna(inplace=True)\n",
        "X_train_knn = df_train_knn['text']\n",
        "y_train_knn = df_train_knn['Sentiment']\n",
        "tfidf_vectorizer_knn = TfidfVectorizer(stop_words='english', max_df=0.7)\n",
        "tfidf_train_knn = tfidf_vectorizer_knn.fit_transform(X_train_knn)\n",
        "knn_model = KNeighborsClassifier(n_neighbors=1, weights='distance')\n",
        "knn_model.fit(tfidf_train_knn, y_train_knn)\n",
        "\n",
        "# Load and preprocess test data for Weighted KNN\n",
        "df_test_knn = pd.read_csv('/content/drive/MyDrive/twitter/twitter_validation.csv')\n",
        "df_test_knn.rename(columns={'3364': 'id', 'Irrelevant': 'Sentiment', 'I mentioned on Facebook that I was struggling for motivation to go for a run the other day, which has been translated by Tom’s great auntie as ‘Hayley can’t get out of bed’ and told to his grandma, who now thinks I’m a lazy, terrible person 🤣': 'text'}, inplace=True)\n",
        "df_test_knn.dropna(inplace=True)\n",
        "X_test_knn = df_test_knn['text']\n",
        "y_test_knn = df_test_knn['Sentiment']\n",
        "tfidf_test_knn = tfidf_vectorizer_knn.transform(X_test_knn)\n",
        "\n",
        "# Load and preprocess training data for Random Forest Classifier\n",
        "df_train_rfc = pd.read_csv('/content/drive/MyDrive/twitter/twitter_training.csv')\n",
        "df_train_rfc.rename(columns={'2401': 'id', 'Positive': 'Label', 'im getting on borderlands and i will murder you all ,': 'text'}, inplace=True)\n",
        "df_train_rfc.dropna(inplace=True)\n",
        "X_train_rfc = df_train_rfc['text']\n",
        "y_train_rfc = df_train_rfc['Label']\n",
        "tfidf_vectorizer_rfc = TfidfVectorizer(stop_words='english', max_df=0.7)\n",
        "tfidf_train_rfc = tfidf_vectorizer_rfc.fit_transform(X_train_rfc)\n",
        "rfc_model = RandomForestClassifier()\n",
        "rfc_model.fit(tfidf_train_rfc, y_train_rfc)\n",
        "\n",
        "# Load and preprocess test data for Random Forest Classifier\n",
        "df_test_rfc = pd.read_csv('/content/drive/MyDrive/twitter/twitter_validation.csv')\n",
        "df_test_rfc.rename(columns={'3364': 'id', 'Irrelevant': 'Label', 'I mentioned on Facebook that I was struggling for motivation to go for a run the other day, which has been translated by Tom’s great auntie as ‘Hayley can’t get out of bed’ and told to his grandma, who now thinks I’m a lazy, terrible person 🤣': 'text'}, inplace=True)\n",
        "df_test_rfc.dropna(inplace=True)\n",
        "X_test_rfc = df_test_rfc['text']\n",
        "y_test_rfc = df_test_rfc['Label']\n",
        "tfidf_test_rfc = tfidf_vectorizer_rfc.transform(X_test_rfc)\n",
        "\n",
        "# Create a Voting Classifier\n",
        "voting_model = VotingClassifier([('pac', pac_model), ('knn', knn_model), ('rfc', rfc_model)], voting='hard')\n",
        "\n",
        "# Fit the Voting Classifier\n",
        "X_train_ensemble = pd.concat([X_train_pac, X_train_knn, X_train_rfc])\n",
        "y_train_ensemble = pd.concat([y_train_pac, y_train_knn, y_train_rfc])\n",
        "tfidf_train_ensemble = tfidf_vectorizer_pac.transform(X_train_ensemble)\n",
        "voting_model.fit(tfidf_train_ensemble, y_train_ensemble)\n",
        "\n",
        "# Predict with the Voting Classifier\n",
        "X_test_ensemble = pd.concat([X_test_pac, X_test_knn, X_test_rfc])\n",
        "tfidf_test_ensemble = tfidf_vectorizer_pac.transform(X_test_ensemble)\n",
        "y_pred_ensemble = voting_model.predict(tfidf_test_ensemble)\n",
        "\n",
        "# Evaluate ensemble model\n",
        "accuracy_ensemble = accuracy_score(pd.concat([y_test_pac, y_test_knn, y_test_rfc]), y_pred_ensemble)\n",
        "print(f'Ensemble Accuracy: {round(accuracy_ensemble * 100, 2)}%')\n",
        "print('Ensemble Classification Report:')\n",
        "print(classification_report(pd.concat([y_test_pac, y_test_knn, y_test_rfc]), y_pred_ensemble))\n"
      ],
      "metadata": {
        "colab": {
          "base_uri": "https://localhost:8080/"
        },
        "id": "HbSa4L1-nGy1",
        "outputId": "215dd5a3-0fc6-4d1a-88a0-6813b7c0099a"
      },
      "execution_count": null,
      "outputs": [
        {
          "output_type": "stream",
          "name": "stdout",
          "text": [
            "Ensemble Accuracy: 98.4%\n",
            "Ensemble Classification Report:\n",
            "              precision    recall  f1-score   support\n",
            "\n",
            "  Irrelevant       0.99      0.99      0.99       513\n",
            "    Negative       0.97      0.98      0.98       798\n",
            "     Neutral       1.00      0.98      0.99       855\n",
            "    Positive       0.98      0.99      0.99       831\n",
            "\n",
            "    accuracy                           0.98      2997\n",
            "   macro avg       0.98      0.98      0.98      2997\n",
            "weighted avg       0.98      0.98      0.98      2997\n",
            "\n"
          ]
        }
      ]
    },
    {
      "cell_type": "code",
      "source": [
        "import pandas as pd\n",
        "from sklearn.feature_extraction.text import TfidfVectorizer\n",
        "from sklearn.neighbors import KNeighborsClassifier\n",
        "from sklearn.linear_model import PassiveAggressiveClassifier\n",
        "from sklearn.ensemble import RandomForestClassifier, VotingClassifier\n",
        "from sklearn.preprocessing import LabelEncoder\n",
        "import xgboost as xgb\n",
        "from sklearn.metrics import accuracy_score, classification_report\n",
        "\n",
        "# Load and preprocess training data for Passive Aggressive Classifier\n",
        "df_train_pac = pd.read_csv('/content/drive/MyDrive/twitter/twitter_training.csv')\n",
        "df_train_pac.rename(columns={'2401': 'id', 'Positive': 'Label', 'im getting on borderlands and i will murder you all ,': 'text'}, inplace=True)\n",
        "df_train_pac.dropna(inplace=True)\n",
        "X_train_pac = df_train_pac['text']\n",
        "y_train_pac = df_train_pac['Label']\n",
        "tfidf_vectorizer_pac = TfidfVectorizer(stop_words='english', max_df=0.7)\n",
        "tfidf_train_pac = tfidf_vectorizer_pac.fit_transform(X_train_pac)\n",
        "pac_model = PassiveAggressiveClassifier(max_iter=50)\n",
        "pac_model.fit(tfidf_train_pac, y_train_pac)\n",
        "\n",
        "# Load and preprocess test data for Passive Aggressive Classifier\n",
        "df_test_pac = pd.read_csv('/content/drive/MyDrive/twitter/twitter_validation.csv')\n",
        "df_test_pac.rename(columns={'3364': 'id', 'Irrelevant': 'Label', 'I mentioned on Facebook that I was struggling for motivation to go for a run the other day, which has been translated by Tom’s great auntie as ‘Hayley can’t get out of bed’ and told to his grandma, who now thinks I’m a lazy, terrible person 🤣': 'text'}, inplace=True)\n",
        "df_test_pac.dropna(inplace=True)\n",
        "X_test_pac = df_test_pac['text']\n",
        "y_test_pac = df_test_pac['Label']\n",
        "tfidf_test_pac = tfidf_vectorizer_pac.transform(X_test_pac)\n",
        "\n",
        "# Load and preprocess training data for Weighted k-NN\n",
        "df_train_knn = pd.read_csv('/content/drive/MyDrive/twitter/twitter_training.csv')\n",
        "df_train_knn.rename(columns={'2401': 'id', 'Positive': 'Sentiment', 'im getting on borderlands and i will murder you all ,': 'text'}, inplace=True)\n",
        "df_train_knn.dropna(inplace=True)\n",
        "X_train_knn = df_train_knn['text']\n",
        "y_train_knn = df_train_knn['Sentiment']\n",
        "tfidf_vectorizer_knn = TfidfVectorizer(stop_words='english', max_df=0.7)\n",
        "tfidf_train_knn = tfidf_vectorizer_knn.fit_transform(X_train_knn)\n",
        "knn_model = KNeighborsClassifier(n_neighbors=1, weights='distance')\n",
        "knn_model.fit(tfidf_train_knn, y_train_knn)\n",
        "\n",
        "# Load and preprocess test data for Weighted k-NN\n",
        "df_test_knn = pd.read_csv('/content/drive/MyDrive/twitter/twitter_validation.csv')\n",
        "df_test_knn.rename(columns={'3364': 'id', 'Irrelevant': 'Sentiment', 'I mentioned on Facebook that I was struggling for motivation to go for a run the other day, which has been translated by Tom’s great auntie as ‘Hayley can’t get out of bed’ and told to his grandma, who now thinks I’m a lazy, terrible person 🤣': 'text'}, inplace=True)\n",
        "df_test_knn.dropna(inplace=True)\n",
        "X_test_knn = df_test_knn['text']\n",
        "y_test_knn = df_test_knn['Sentiment']\n",
        "tfidf_test_knn = tfidf_vectorizer_knn.transform(X_test_knn)\n",
        "\n",
        "# Load and preprocess training data for Random Forest Classifier\n",
        "df_train_rfc = pd.read_csv('/content/drive/MyDrive/twitter/twitter_training.csv')\n",
        "df_train_rfc.rename(columns={'2401': 'id', 'Positive': 'Label', 'im getting on borderlands and i will murder you all ,': 'text'}, inplace=True)\n",
        "df_train_rfc.dropna(inplace=True)\n",
        "X_train_rfc = df_train_rfc['text']\n",
        "y_train_rfc = df_train_rfc['Label']\n",
        "tfidf_vectorizer_rfc = TfidfVectorizer(stop_words='english', max_df=0.7)\n",
        "tfidf_train_rfc = tfidf_vectorizer_rfc.fit_transform(X_train_rfc)\n",
        "rfc_model = RandomForestClassifier()\n",
        "rfc_model.fit(tfidf_train_rfc, y_train_rfc)\n",
        "\n",
        "# Load and preprocess test data for Random Forest Classifier\n",
        "df_test_rfc = pd.read_csv('/content/drive/MyDrive/twitter/twitter_validation.csv')\n",
        "df_test_rfc.rename(columns={'3364': 'id', 'Irrelevant': 'Label', 'I mentioned on Facebook that I was struggling for motivation to go for a run the other day, which has been translated by Tom’s great auntie as ‘Hayley can’t get out of bed’ and told to his grandma, who now thinks I’m a lazy, terrible person 🤣': 'text'}, inplace=True)\n",
        "df_test_rfc.dropna(inplace=True)\n",
        "X_test_rfc = df_test_rfc['text']\n",
        "y_test_rfc = df_test_rfc['Label']\n",
        "tfidf_test_rfc = tfidf_vectorizer_rfc.transform(X_test_rfc)\n",
        "\n",
        "# Load and preprocess training data for XGBoost Classifier\n",
        "df_train_xgb = pd.read_csv('/content/drive/MyDrive/twitter/twitter_training.csv')\n",
        "df_train_xgb.rename(columns={'2401': 'id', 'Positive': 'Label', 'im getting on borderlands and i will murder you all ,': 'text'}, inplace=True)\n",
        "df_train_xgb.dropna(inplace=True)\n",
        "X_train_xgb = df_train_xgb['text']\n",
        "y_train_xgb = df_train_xgb['Label']\n",
        "tfidf_vectorizer_xgb = TfidfVectorizer(stop_words='english', max_df=0.7)\n",
        "tfidf_train_xgb = tfidf_vectorizer_xgb.fit_transform(X_train_xgb)\n",
        "label_encoder_xgb = LabelEncoder()\n",
        "y_train_xgb_encoded = label_encoder_xgb.fit_transform(y_train_xgb)\n",
        "xgb_model = xgb.XGBClassifier()\n",
        "xgb_model.fit(tfidf_train_xgb, y_train_xgb_encoded)\n",
        "\n",
        "# Load and preprocess test data for XGBoost Classifier\n",
        "df_test_xgb = pd.read_csv('/content/drive/MyDrive/twitter/twitter_validation.csv')\n",
        "df_test_xgb.rename(columns={'3364': 'id', 'Irrelevant': 'Label', 'I mentioned on Facebook that I was struggling for motivation to go for a run the other day, which has been translated by Tom’s great auntie as ‘Hayley can’t get out of bed’ and told to his grandma, who now thinks I’m a lazy, terrible person 🤣': 'text'}, inplace=True)\n",
        "df_test_xgb.dropna(inplace=True)\n",
        "X_test_xgb = df_test_xgb['text']\n",
        "y_test_xgb = df_test_xgb['Label']\n",
        "tfidf_test_xgb = tfidf_vectorizer_xgb.transform(X_test_xgb)\n",
        "\n",
        "# Make predictions using each model\n",
        "pac_pred = pac_model.predict(tfidf_test_pac)\n",
        "knn_pred = knn_model.predict(tfidf_test_knn)\n",
        "rfc_pred = rfc_model.predict(tfidf_test_rfc)\n",
        "xgb_pred = xgb_model.predict(tfidf_test_xgb)\n",
        "\n",
        "# Create a voting ensemble classifier\n",
        "voting_clf = VotingClassifier(estimators=[\n",
        "    ('pac', pac_model), ('knn', knn_model), ('rfc', rfc_model), ('xgb', xgb_model)], voting='hard')\n",
        "\n",
        "# Fit the voting ensemble classifier\n",
        "voting_clf.fit(tfidf_train_pac, y_train_pac)\n",
        "\n",
        "# Make predictions using the voting ensemble classifier\n",
        "voting_pred = voting_clf.predict(tfidf_test_pac)\n",
        "\n",
        "# Evaluate the ensemble model's performance\n",
        "accuracy_voting = accuracy_score(y_test_pac, voting_pred)\n",
        "print(f'Voting Classifier Ensemble Accuracy: {accuracy_voting * 100:.2f}%')\n",
        "print('Classification Report for Voting Classifier Ensemble:')\n",
        "print(classification_report(y_test_pac, voting_pred))\n"
      ],
      "metadata": {
        "colab": {
          "base_uri": "https://localhost:8080/"
        },
        "id": "W74b9JoLtGCN",
        "outputId": "5552b7af-ee7a-416f-910b-aefa7ebe565d"
      },
      "execution_count": null,
      "outputs": [
        {
          "output_type": "stream",
          "name": "stdout",
          "text": [
            "Voting Classifier Ensemble Accuracy: 97.70%\n",
            "Classification Report for Voting Classifier Ensemble:\n",
            "              precision    recall  f1-score   support\n",
            "\n",
            "  Irrelevant       0.98      0.98      0.98       171\n",
            "    Negative       0.96      0.99      0.97       266\n",
            "     Neutral       0.98      0.97      0.98       285\n",
            "    Positive       0.99      0.97      0.98       277\n",
            "\n",
            "    accuracy                           0.98       999\n",
            "   macro avg       0.98      0.98      0.98       999\n",
            "weighted avg       0.98      0.98      0.98       999\n",
            "\n"
          ]
        }
      ]
    }
  ]
}